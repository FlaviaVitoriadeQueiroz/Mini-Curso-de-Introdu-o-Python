{
  "nbformat": 4,
  "nbformat_minor": 0,
  "metadata": {
    "colab": {
      "provenance": []
    },
    "kernelspec": {
      "name": "python3",
      "display_name": "Python 3"
    },
    "language_info": {
      "name": "python"
    }
  },
  "cells": [
    {
      "cell_type": "code",
      "source": [
        "#concatenação de strings"
      ],
      "metadata": {
        "id": "W5ikeZHMldCm"
      },
      "execution_count": null,
      "outputs": []
    },
    {
      "cell_type": "code",
      "source": [
        "#manipulação de strings\n",
        "#Crie um programa que leia uma frase digitada pelo usuário e exiba quantos caracteres ela possui (incluindo espaços).\n",
        "frase = input()\n",
        "print(len(frase))"
      ],
      "metadata": {
        "id": "to9bazSPlj--",
        "colab": {
          "base_uri": "https://localhost:8080/"
        },
        "outputId": "d438da6b-4450-45f1-b0eb-5ff0380eccdd"
      },
      "execution_count": null,
      "outputs": [
        {
          "output_type": "stream",
          "name": "stdout",
          "text": [
            "python\n",
            "6\n"
          ]
        }
      ]
    },
    {
      "cell_type": "code",
      "source": [
        "#Peça uma palavra ao usuário e mostre quantas vezes a letra \"a\" aparece nela (maiúscula ou minúscula)\n",
        "palavra = input()\n",
        "print(palavra.count('a'))"
      ],
      "metadata": {
        "colab": {
          "base_uri": "https://localhost:8080/"
        },
        "id": "cn8hTLpk5G3c",
        "outputId": "1bb748b8-2591-40af-f36f-0e7fafa6fc9f"
      },
      "execution_count": null,
      "outputs": [
        {
          "output_type": "stream",
          "name": "stdout",
          "text": [
            "amanhã\n",
            "2\n"
          ]
        }
      ]
    },
    {
      "cell_type": "code",
      "source": [
        "#Peça ao usuário que digite algo e verifique se ele digitou apenas letras e números (sem espaços ou símbolos).\n",
        "frase = input()\n",
        "print(frase.isalnum())"
      ],
      "metadata": {
        "colab": {
          "base_uri": "https://localhost:8080/"
        },
        "id": "i4_StTNk5SvZ",
        "outputId": "33be699f-9bf1-47b9-d345-df284d53e4a3"
      },
      "execution_count": null,
      "outputs": [
        {
          "output_type": "stream",
          "name": "stdout",
          "text": [
            "hoje 90\n",
            "False\n"
          ]
        }
      ]
    },
    {
      "cell_type": "code",
      "source": [
        "#Verifique se o nome digitado pelo usuário contém somente letras (sem espaços ou números).\n",
        "nome = input()\n",
        "print(nome.isalpha())"
      ],
      "metadata": {
        "colab": {
          "base_uri": "https://localhost:8080/"
        },
        "id": "22BDu98e5ZRH",
        "outputId": "e7bcd17b-d756-4001-c566-8917611cb8d4"
      },
      "execution_count": null,
      "outputs": [
        {
          "output_type": "stream",
          "name": "stdout",
          "text": [
            "flav9\n",
            "False\n"
          ]
        }
      ]
    },
    {
      "cell_type": "code",
      "source": [
        "#Dada a frase \"Eu gosto de sorvete\", substitua \"sorvete\" por \"chocolate\" e mostre a nova frase.\n",
        "frase = 'Eu gosto de sorvete'\n",
        "print(frase.replace('sorvete', 'chocolate'))"
      ],
      "metadata": {
        "colab": {
          "base_uri": "https://localhost:8080/"
        },
        "id": "HHMZgBtu5d3j",
        "outputId": "31c145e3-f95c-408a-a99d-c55b65b38778"
      },
      "execution_count": null,
      "outputs": [
        {
          "output_type": "stream",
          "name": "stdout",
          "text": [
            "Eu gosto de chocolate\n"
          ]
        }
      ]
    },
    {
      "cell_type": "code",
      "source": [
        "#fatiamento de string\n",
        "#Dada a string texto = \"Programação\"\n",
        "#Mostre apenas os 5 primeiros caracteres.\n",
        "p = \"programação\"\n",
        "print(p [0:5])"
      ],
      "metadata": {
        "id": "GzAtBbEclnxt",
        "colab": {
          "base_uri": "https://localhost:8080/"
        },
        "outputId": "6b11971d-f229-4884-94e4-cd1e87795a7a"
      },
      "execution_count": null,
      "outputs": [
        {
          "output_type": "stream",
          "name": "stdout",
          "text": [
            "progr\n"
          ]
        }
      ]
    },
    {
      "cell_type": "code",
      "source": [
        "#Com a string palavra = \"Biomedicina\"\n",
        "#Mostre os caracteres do índice 2 ao 6 (sem incluir o 6).\n",
        "b = 'biomedicina'\n",
        "print(b [2:6])"
      ],
      "metadata": {
        "colab": {
          "base_uri": "https://localhost:8080/"
        },
        "id": "9FY_Di405i7f",
        "outputId": "ec017ad8-7897-4c96-c43e-4fbf0bd8989c"
      },
      "execution_count": null,
      "outputs": [
        {
          "output_type": "stream",
          "name": "stdout",
          "text": [
            "omed\n"
          ]
        }
      ]
    },
    {
      "cell_type": "code",
      "source": [
        "#operações númericas básicas\n",
        "#Dado a = 8 e b = 5, calcule: a soma, a subtração, a multiplicação\n",
        "a = 8\n",
        "b = 5\n",
        "\n",
        "soma = a + b\n",
        "print(soma)\n",
        "\n",
        "subtracao = a - b\n",
        "print(subtracao)\n",
        "\n",
        "multi = a * b\n",
        "print(multi)"
      ],
      "metadata": {
        "id": "jjM_58lNJ3MY",
        "colab": {
          "base_uri": "https://localhost:8080/"
        },
        "outputId": "93224361-2b0e-4ac3-ca8b-bb2806ef8fdb"
      },
      "execution_count": null,
      "outputs": [
        {
          "output_type": "stream",
          "name": "stdout",
          "text": [
            "13\n",
            "3\n",
            "40\n"
          ]
        }
      ]
    },
    {
      "cell_type": "code",
      "source": [
        "#Dado nota1 = 7.5 e nota2 = 6.0, verifique se: As duas notas são iguais, A primeira é maior ou igual à segunda.\n",
        "nota1 = 7.5\n",
        "nota2 = 6.0\n",
        "\n",
        "if nota1 == nota2:\n",
        "  print('iguais')\n",
        "elif nota1 > nota2:\n",
        "  print('nota1 maior que nota2')"
      ],
      "metadata": {
        "colab": {
          "base_uri": "https://localhost:8080/"
        },
        "id": "U_b2RYZ_6J49",
        "outputId": "2a499992-e532-40c4-e137-4c47d33cb2be"
      },
      "execution_count": null,
      "outputs": [
        {
          "output_type": "stream",
          "name": "stdout",
          "text": [
            "nota1 maior que nota2\n"
          ]
        }
      ]
    },
    {
      "cell_type": "code",
      "source": [
        "#Calcule 3 elevado à 4ª potência.\n",
        "a = 3\n",
        "pot = 3 ** 4\n",
        "print(pot)"
      ],
      "metadata": {
        "colab": {
          "base_uri": "https://localhost:8080/"
        },
        "id": "emPKixhg59w3",
        "outputId": "95a864a0-6d4a-4eff-fddb-1430d331c09a"
      },
      "execution_count": null,
      "outputs": [
        {
          "output_type": "stream",
          "name": "stdout",
          "text": [
            "81\n"
          ]
        }
      ]
    },
    {
      "cell_type": "code",
      "source": [
        "#Dado idade = 18, verifique: Se é igual a 18, Se é maior que 17, Se é diferente de 21\n",
        "idade = 18\n",
        "if idade == 18 and idade > 17 and idade != 21:\n",
        "  print('idade igual a 18')\n"
      ],
      "metadata": {
        "colab": {
          "base_uri": "https://localhost:8080/"
        },
        "id": "_HuBB3PH6Bbz",
        "outputId": "25e9ec00-45f6-41ce-d68d-41400f8a9d78"
      },
      "execution_count": null,
      "outputs": [
        {
          "output_type": "stream",
          "name": "stdout",
          "text": [
            "idade igual a 18\n"
          ]
        }
      ]
    },
    {
      "cell_type": "code",
      "source": [
        "#operações númericas com if, elif e else\n",
        "#Peça ao usuário um número e diga se ele é par ou ímpar.\n",
        "n = int (input())\n",
        "if n % 2 == 0:\n",
        "  print('par')\n",
        "else:\n",
        "  print('impar')\n"
      ],
      "metadata": {
        "id": "gXPKd-EaJ85m",
        "colab": {
          "base_uri": "https://localhost:8080/"
        },
        "outputId": "71f64c05-8be1-484c-f23d-ee3c8ce77593"
      },
      "execution_count": null,
      "outputs": [
        {
          "output_type": "stream",
          "name": "stdout",
          "text": [
            "15\n",
            "impar\n"
          ]
        }
      ]
    },
    {
      "cell_type": "code",
      "source": [
        "#Receba dois números e mostre o maior deles.\n",
        "n1 = int (input())\n",
        "n2 = float (input())\n",
        "if n1 > n2:\n",
        "  print(n1)\n",
        "else:\n",
        "  print(n2)"
      ],
      "metadata": {
        "colab": {
          "base_uri": "https://localhost:8080/"
        },
        "id": "mwGhbP4y6frx",
        "outputId": "2e54a676-d7a4-413e-b2ca-4682e3b27943"
      },
      "execution_count": null,
      "outputs": [
        {
          "output_type": "stream",
          "name": "stdout",
          "text": [
            "9\n",
            "12.8\n",
            "12.8\n"
          ]
        }
      ]
    },
    {
      "cell_type": "code",
      "source": [
        "#Dado um número, verifique se ele é múltiplo de 3, de 5 ou de ambos.\n",
        "n = int (input())\n",
        "n3 = n % 3\n",
        "n5 = n % 5\n",
        "\n",
        "if n3 == 0 and n5 == 0:\n",
        "  print('ambos')\n",
        "elif n3 == 0:\n",
        "  print('multi de 3')\n",
        "elif n5 == 0:\n",
        "  print('multi de 5')\n",
        "else:\n",
        "  ('não é multiplo de nenhum')"
      ],
      "metadata": {
        "colab": {
          "base_uri": "https://localhost:8080/"
        },
        "id": "2aNmWTD56kCJ",
        "outputId": "7b1b3e39-6d61-4419-a8d0-56dfbcbca180"
      },
      "execution_count": null,
      "outputs": [
        {
          "name": "stdout",
          "output_type": "stream",
          "text": [
            "7\n"
          ]
        }
      ]
    },
    {
      "cell_type": "code",
      "source": [
        "#Receba duas notas e calcule a média. Se a média for maior ou igual a 7, mostre \"Aprovado\"; entre 5 e 7, mostre \"Recuperação\"; menor que 5, \"Reprovado\".\n",
        "nota1 = int(input())\n",
        "nota2 = float(input())\n",
        "\n",
        "media = nota1 + nota2 / 2\n",
        "\n",
        "if media > 7:\n",
        "  print('aprovado')\n",
        "elif media == 5 and media == 6:\n",
        "  print('recuperação')\n",
        "elif media < 5:\n",
        "  print('reprovado')"
      ],
      "metadata": {
        "colab": {
          "base_uri": "https://localhost:8080/"
        },
        "id": "CNKXKMpX6l0h",
        "outputId": "0cbffb60-b986-48e0-aa9b-6953077b1712"
      },
      "execution_count": null,
      "outputs": [
        {
          "name": "stdout",
          "output_type": "stream",
          "text": [
            "4\n",
            "3.5\n"
          ]
        }
      ]
    },
    {
      "cell_type": "code",
      "source": [
        "#Peça dois números e uma operação (+, -, *, /) e realize a operação correspondente.\n",
        "n1 = int (input())\n",
        "n2 = int (input())\n",
        "operador = input()\n",
        "\n",
        "if operador == '+':\n",
        "  soma = n1 + n2\n",
        "  print(soma)\n",
        "elif operador == '-':\n",
        "  sub = n1 - n2\n",
        "  print(sub)\n",
        "elif operador == '*':\n",
        "  multi = n1 * n2\n",
        "  print(multi)\n",
        "elif operador == '/':\n",
        "  div = n1 / n2\n",
        "  print(div)"
      ],
      "metadata": {
        "colab": {
          "base_uri": "https://localhost:8080/"
        },
        "id": "Yxa4HKpH6t2x",
        "outputId": "96022909-8a82-4e7a-dd85-e7de08fc9353"
      },
      "execution_count": null,
      "outputs": [
        {
          "output_type": "stream",
          "name": "stdout",
          "text": [
            "4\n",
            "2\n",
            "/\n",
            "2.0\n"
          ]
        }
      ]
    },
    {
      "cell_type": "code",
      "source": [
        "#índice de listas\n",
        "#Dada a lista frutas = [\"maçã\", \"banana\", \"laranja\", \"uva\", \"melancia\"], exiba o primeiro item.\n",
        "frutas = [\"maçã\", \"banana\", \"laranja\", \"uva\", \"melancia\"]\n",
        "print(frutas[1])"
      ],
      "metadata": {
        "id": "JmorZ4DnMbFx",
        "colab": {
          "base_uri": "https://localhost:8080/"
        },
        "outputId": "c40ef202-bb69-4cc6-bd29-1c0976a37ed4"
      },
      "execution_count": null,
      "outputs": [
        {
          "output_type": "stream",
          "name": "stdout",
          "text": [
            "banana\n"
          ]
        }
      ]
    },
    {
      "cell_type": "code",
      "source": [
        "#Encontre a posição (índice) do item \"uva\" na lista.\n",
        "frutas = [\"maçã\", \"banana\", \"laranja\", \"uva\", \"melancia\"]\n",
        "print(frutas.index('uva'))"
      ],
      "metadata": {
        "colab": {
          "base_uri": "https://localhost:8080/"
        },
        "id": "L4W6G3sT8un-",
        "outputId": "d884bc35-30b7-4f5f-97e0-b71e0dc53c93"
      },
      "execution_count": null,
      "outputs": [
        {
          "output_type": "stream",
          "name": "stdout",
          "text": [
            "3\n"
          ]
        }
      ]
    },
    {
      "cell_type": "code",
      "source": [
        "#Exiba o penúltimo item da lista utilizando índice negativo.\n",
        "frutas = [\"maçã\", \"banana\", \"laranja\", \"uva\", \"melancia\"]\n",
        "print(frutas [-2])"
      ],
      "metadata": {
        "colab": {
          "base_uri": "https://localhost:8080/"
        },
        "id": "bmDNCQGl8qSQ",
        "outputId": "39dce715-6cb9-45dd-fd0c-d182591440c2"
      },
      "execution_count": null,
      "outputs": [
        {
          "output_type": "stream",
          "name": "stdout",
          "text": [
            "uva\n"
          ]
        }
      ]
    },
    {
      "cell_type": "code",
      "source": [
        "#Utilize índice negativo para exibir a última fruta da lista.\n",
        "frutas = [\"maçã\", \"banana\", \"laranja\", \"uva\", \"melancia\"]\n",
        "print(frutas[-1])"
      ],
      "metadata": {
        "colab": {
          "base_uri": "https://localhost:8080/"
        },
        "id": "qN7cYdX56zHn",
        "outputId": "248bf9da-6011-4ede-c6c5-c6a2f90b5d7b"
      },
      "execution_count": null,
      "outputs": [
        {
          "output_type": "stream",
          "name": "stdout",
          "text": [
            "melancia\n"
          ]
        }
      ]
    },
    {
      "cell_type": "code",
      "source": [
        "#Mostre a terceira fruta da lista frutas.\n",
        "frutas = [\"maçã\", \"banana\", \"laranja\", \"uva\", \"melancia\"]\n",
        "print(frutas[2])"
      ],
      "metadata": {
        "colab": {
          "base_uri": "https://localhost:8080/"
        },
        "id": "dDuHYlMB7_nU",
        "outputId": "99c5a3be-b466-4a06-ca76-52e26997ddd4"
      },
      "execution_count": null,
      "outputs": [
        {
          "output_type": "stream",
          "name": "stdout",
          "text": [
            "laranja\n"
          ]
        }
      ]
    },
    {
      "cell_type": "code",
      "source": [
        "#manipulação de listas\n",
        "#Crie uma lista chamada animais com os seguintes elementos: \"cachorro\", \"gato\", \"papagaio\", \"hamster\".\n",
        "#Use a função len() para exibir quantos animais há na lista.\n",
        "animais = [\"cachorro\", \"gato\", \"papagaio\", \"hamster\"]\n",
        "print(len(animais))"
      ],
      "metadata": {
        "colab": {
          "base_uri": "https://localhost:8080/"
        },
        "id": "QQvkYoyj9LPN",
        "outputId": "0fb46876-d333-4ccf-d787-f2e5fd7861dc"
      },
      "execution_count": null,
      "outputs": [
        {
          "output_type": "stream",
          "name": "stdout",
          "text": [
            "4\n"
          ]
        }
      ]
    },
    {
      "cell_type": "code",
      "source": [
        "#Dada a lista idades = [25, 18, 30, 21, 16], utilize a função min() para mostrar a menor idade.\n",
        "idades = [25, 18, 30, 21, 16]\n",
        "print(min(idades))"
      ],
      "metadata": {
        "colab": {
          "base_uri": "https://localhost:8080/"
        },
        "id": "bOfH4p1Z9Q9V",
        "outputId": "15d6bbb3-dc01-4901-da85-ba2ca766d9f3"
      },
      "execution_count": null,
      "outputs": [
        {
          "output_type": "stream",
          "name": "stdout",
          "text": [
            "16\n"
          ]
        }
      ]
    },
    {
      "cell_type": "code",
      "source": [
        "#Utilize a função max() para descobrir a maior idade da lista idades usada acima.\n",
        "idades = [25, 18, 30, 21, 16]\n",
        "print(max(idades))"
      ],
      "metadata": {
        "colab": {
          "base_uri": "https://localhost:8080/"
        },
        "id": "IHXbBxi_9ULq",
        "outputId": "b9d1002b-30f5-4227-a2f9-ce53a82c57bd"
      },
      "execution_count": null,
      "outputs": [
        {
          "output_type": "stream",
          "name": "stdout",
          "text": [
            "30\n"
          ]
        }
      ]
    },
    {
      "cell_type": "code",
      "source": [
        "#Crie uma lista cores = [\"azul\", \"vermelho\", \"verde\"].\n",
        "#Adicione a cor \"amarelo\" à lista usando o método append()\n",
        "cores = [\"azul\", \"vermelho\", \"verde\"]\n",
        "cores.append('amarelo')\n",
        "print(cores)"
      ],
      "metadata": {
        "colab": {
          "base_uri": "https://localhost:8080/"
        },
        "id": "w1un9YCc_H5f",
        "outputId": "8c4c2d4f-465a-472b-ae86-ed3eade9d037"
      },
      "execution_count": null,
      "outputs": [
        {
          "output_type": "stream",
          "name": "stdout",
          "text": [
            "['azul', 'vermelho', 'verde', 'amarelo']\n"
          ]
        }
      ]
    },
    {
      "cell_type": "code",
      "source": [
        "#Dada a lista numeros = [1, 2, 3, 4, 5], remova o número na posição 2\n",
        "numeros = [1, 2, 3, 4, 5]\n",
        "del numeros [1]\n",
        "print(numeros)"
      ],
      "metadata": {
        "colab": {
          "base_uri": "https://localhost:8080/"
        },
        "id": "6xJEPtoD_WQf",
        "outputId": "c962ebec-6a09-4d6e-ca88-e0180d31880d"
      },
      "execution_count": null,
      "outputs": [
        {
          "output_type": "stream",
          "name": "stdout",
          "text": [
            "[1, 3, 4, 5]\n"
          ]
        }
      ]
    },
    {
      "cell_type": "code",
      "source": [
        "#Verifique se o número 4 está presente na lista numeros = [1, 3, 4, 5].\n",
        "numeros = [1, 3, 4, 5]\n",
        "6 in numeros"
      ],
      "metadata": {
        "colab": {
          "base_uri": "https://localhost:8080/"
        },
        "id": "OCKh_6Ut_ZAx",
        "outputId": "2749d112-cea9-413a-8b98-053a62136d48"
      },
      "execution_count": null,
      "outputs": [
        {
          "output_type": "execute_result",
          "data": {
            "text/plain": [
              "False"
            ]
          },
          "metadata": {},
          "execution_count": 159
        }
      ]
    },
    {
      "cell_type": "code",
      "source": [
        "#Crie a lista lista1 = [10, 20, 30] e a lista lista2 = [40, 50].\n",
        "#Use extend() para juntar as duas listas.\n",
        "lista1 = [10, 20, 30]\n",
        "lista2 = [40, 50]\n",
        "lista1.extend(lista2)\n",
        "print(lista1)"
      ],
      "metadata": {
        "colab": {
          "base_uri": "https://localhost:8080/"
        },
        "id": "tViIDRzL_o_e",
        "outputId": "a13a7c5f-525a-4f87-cf42-960a8a2bb569"
      },
      "execution_count": null,
      "outputs": [
        {
          "output_type": "stream",
          "name": "stdout",
          "text": [
            "[10, 20, 30, 40, 50]\n"
          ]
        }
      ]
    },
    {
      "cell_type": "code",
      "source": [
        "#Dada a lista valores = [2, 4, 6, 8], utilize a função sum() para calcular a soma total.\n",
        "valores = [2, 4, 6, 8]\n",
        "print(sum(valores))"
      ],
      "metadata": {
        "id": "fazVCtY8Oydz",
        "colab": {
          "base_uri": "https://localhost:8080/"
        },
        "outputId": "9e295b3e-d6eb-4b7f-c3cd-c934596ccfcb"
      },
      "execution_count": null,
      "outputs": [
        {
          "output_type": "stream",
          "name": "stdout",
          "text": [
            "20\n"
          ]
        }
      ]
    },
    {
      "cell_type": "code",
      "source": [
        "#fatiamento de listas\n",
        "#Dada a lista nomes = [\"Ana\", \"Bruno\", \"Carlos\", \"Diana\", \"Eduardo\"], exiba somente os 3 primeiros nomes usando fatiamento.\n",
        "nomes = [\"Ana\", \"Bruno\", \"Carlos\", \"Diana\", \"Eduardo\"]\n",
        "print(nomes [0:3])\n",
        "#Com a mesma lista, exiba os dois últimos nomes.\n",
        "nomes = [\"Ana\", \"Bruno\", \"Carlos\", \"Diana\", \"Eduardo\"]\n",
        "print(nomes[2:5])\n",
        "\n",
        "#Mostre os nomes a partir do terceiro elemento da lista (índice 2) até o final.\n",
        "nomes = [\"Ana\", \"Bruno\", \"Carlos\", \"Diana\", \"Eduardo\"]\n",
        "print(nomes[2:])\n",
        "#Exiba apenas \"Bruno\" e \"Carlos\" usando fatiamento.\n",
        "nomes = [\"Ana\", \"Bruno\", \"Carlos\", \"Diana\", \"Eduardo\"]\n",
        "print(nomes[1:3])"
      ],
      "metadata": {
        "id": "INa8ltYvO0XN",
        "colab": {
          "base_uri": "https://localhost:8080/"
        },
        "outputId": "e010a782-2f1c-497a-fdf0-4db1149fb007"
      },
      "execution_count": null,
      "outputs": [
        {
          "output_type": "stream",
          "name": "stdout",
          "text": [
            "['Ana', 'Bruno', 'Carlos']\n",
            "['Carlos', 'Diana', 'Eduardo']\n",
            "['Carlos', 'Diana', 'Eduardo']\n",
            "['Bruno', 'Carlos']\n"
          ]
        }
      ]
    }
  ]
}